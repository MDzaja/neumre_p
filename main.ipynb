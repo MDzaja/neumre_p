{
 "cells": [
  {
   "cell_type": "code",
   "execution_count": 10,
   "metadata": {},
   "outputs": [],
   "source": [
    "import numpy as np\n",
    "import pandas as pd\n",
    "import keras\n",
    "from tensorflow.keras.utils import to_categorical\n",
    "from tensorflow.keras.preprocessing.image import ImageDataGenerator \n",
    "from tensorflow.keras.utils import plot_model\n",
    "from keras.models import Model\n",
    "from keras.layers import Input, Dense, Flatten, Dropout, BatchNormalization\n",
    "from keras.layers.convolutional import Conv2D\n",
    "from keras.layers.pooling import MaxPooling2D\n",
    "from tensorflow.keras.optimizers import Adam, SGD\n",
    "from keras.regularizers import l1, l2\n",
    "from matplotlib import pyplot as plt\n",
    "from sklearn.metrics import confusion_matrix\n",
    "from cnn_model import FER_Model\n",
    "import random"
   ]
  },
  {
   "cell_type": "code",
<<<<<<< HEAD
   "execution_count": 11,
=======
   "execution_count": 2,
>>>>>>> 2076a1aad5571cb6e0107f629bfe9053f7bbcc89
   "metadata": {},
   "outputs": [
    {
     "name": "stdout",
     "output_type": "stream",
     "text": [
      "Num GPUs Available:  0\n",
      "[name: \"/device:CPU:0\"\n",
      "device_type: \"CPU\"\n",
      "memory_limit: 268435456\n",
      "locality {\n",
      "}\n",
<<<<<<< HEAD
      "incarnation: 2447865547167600355\n",
=======
      "incarnation: 11918234597690963902\n",
>>>>>>> 2076a1aad5571cb6e0107f629bfe9053f7bbcc89
      "]\n"
     ]
    }
   ],
   "source": [
    "#TODO delete this\n",
    "import tensorflow as tf\n",
    "print(\"Num GPUs Available: \", len(tf.config.list_physical_devices('GPU')))\n",
    "from tensorflow.python.client import device_lib\n",
    "print(device_lib.list_local_devices())"
   ]
  },
  {
   "cell_type": "code",
   "execution_count": 3,
   "metadata": {},
   "outputs": [
    {
     "name": "stdout",
     "output_type": "stream",
     "text": [
      "(35887, 3)\n",
      "   emotion                                             pixels     Usage\n",
      "0        0  70 80 82 72 58 58 60 63 54 58 60 48 89 115 121...  Training\n",
      "1        0  151 150 147 155 148 133 111 140 170 174 182 15...  Training\n",
      "2        2  231 212 156 164 174 138 161 173 182 200 106 38...  Training\n"
     ]
    }
   ],
   "source": [
    "df = pd.read_csv('archive/fer2013/fer2013/fer2013.csv')\n",
    "\n",
    "print(df.shape)\n",
    "print(df.head(3))"
   ]
  },
  {
   "cell_type": "code",
   "execution_count": 4,
   "metadata": {},
   "outputs": [
    {
     "name": "stdout",
     "output_type": "stream",
     "text": [
      "Train data length:  5000\n",
      "Train data length:  500\n"
     ]
    }
   ],
   "source": [
    "X_train = []\n",
    "y_train = []\n",
    "X_test = []\n",
    "y_test = []\n",
    "for index, row in df.iterrows():\n",
    "    k = row['pixels'].split(\" \")\n",
    "    if row['Usage'] == 'Training':\n",
    "        X_train.append(np.array(k))\n",
    "        y_train.append(row['emotion'])\n",
    "    elif row['Usage'] == 'PublicTest':\n",
    "        X_test.append(np.array(k))\n",
    "        y_test.append(row['emotion'])\n",
    "\n",
    "X_train = np.array(X_train, dtype = 'uint8')\n",
    "y_train = np.array(y_train, dtype = 'uint8')\n",
    "X_test = np.array(X_test, dtype = 'uint8')\n",
    "y_test = np.array(y_test, dtype = 'uint8')\n",
    "\n",
    "y_train= to_categorical(y_train, num_classes=7)\n",
    "y_test = to_categorical(y_test, num_classes=7)\n",
    "\n",
    "X_train = X_train.reshape(X_train.shape[0], 48, 48, 1)\n",
    "X_test = X_test.reshape(X_test.shape[0], 48, 48, 1)\n",
    "\n",
    "#take random 5000 elements from train set and 500 elements from test set\n",
    "train_init_indices = random.sample(range(0, X_train.shape[0]), 5000)\n",
    "test_indices = random.sample(range(0, X_test.shape[0]), 500)\n",
    "X_train = X_train[train_init_indices]\n",
    "X_test = X_test[test_indices]\n",
    "y_train = y_train[train_init_indices]\n",
    "y_test = y_test[test_indices]\n",
    "\n",
    "print('Train data length: ', X_train.shape[0])\n",
    "print('Train data length: ', X_test.shape[0])\n",
    "\n",
    "datagen = ImageDataGenerator( \n",
    "    rescale=1./255,\n",
    "    rotation_range = 10,\n",
    "    horizontal_flip = True,\n",
    "    width_shift_range=0.1,\n",
    "    height_shift_range=0.1,\n",
    "    fill_mode = 'nearest')\n",
    "\n",
    "testgen = ImageDataGenerator(rescale=1./255)\n",
    "datagen.fit(X_train)\n",
    "\n",
    "batch_size = 64\n",
    "\n",
    "train_flow = datagen.flow(X_train, y_train, batch_size=batch_size) \n",
    "test_flow = testgen.flow(X_test, y_test, batch_size=batch_size)"
   ]
  },
  {
   "cell_type": "code",
   "execution_count": 20,
   "metadata": {},
   "outputs": [
    {
     "name": "stdout",
     "output_type": "stream",
     "text": [
      "Epoch 1/100\n",
      "Epoch 2/100\n",
      "Epoch 3/100\n",
      "Epoch 4/100\n",
      "Epoch 5/100\n",
      "Epoch 6/100\n",
      "Epoch 7/100\n",
      "Epoch 8/100\n",
      "Epoch 9/100\n",
      "Epoch 10/100\n",
      "Epoch 11/100\n",
      "Epoch 12/100\n",
      "Epoch 13/100\n",
      "Epoch 14/100\n",
      "Epoch 15/100\n",
      "Epoch 16/100\n",
      "Epoch 17/100\n",
      "Epoch 18/100\n",
      "Epoch 19/100\n",
      "Epoch 20/100\n",
      "Epoch 21/100\n",
      "Epoch 22/100\n",
      "Epoch 23/100\n",
      "Epoch 24/100\n",
      "Epoch 25/100\n",
      "Epoch 26/100\n",
      "Epoch 27/100\n",
      "Epoch 28/100\n",
      "Epoch 29/100\n",
      "Epoch 30/100\n",
      "Epoch 31/100\n",
      "Epoch 32/100\n",
      "Epoch 33/100\n",
      "Epoch 34/100\n",
      "Epoch 35/100\n",
      "Epoch 36/100\n",
      "Epoch 37/100\n",
      "Epoch 38/100\n",
      "Epoch 39/100\n",
      "Epoch 40/100\n",
      "Epoch 41/100\n",
      "Epoch 42/100\n",
      "Epoch 43/100\n",
      "Epoch 44/100\n",
      "Epoch 45/100\n",
      "Epoch 46/100\n",
      "Epoch 47/100\n",
      "Epoch 48/100\n",
      "Epoch 49/100\n",
      "Epoch 50/100\n",
      "Epoch 51/100\n",
      "Epoch 52/100\n",
      "Epoch 53/100\n",
      "Epoch 54/100\n",
      "Epoch 55/100\n",
      "Epoch 56/100\n",
      "Epoch 57/100\n",
      "Epoch 58/100\n",
      "Epoch 59/100\n",
      "Epoch 60/100\n",
      "Epoch 61/100\n",
      "Epoch 62/100\n",
      "Epoch 63/100\n",
      "Epoch 64/100\n",
      "Epoch 65/100\n",
      "Epoch 66/100\n",
      "Epoch 67/100\n",
      "Epoch 68/100\n",
      "Epoch 69/100\n",
      "Epoch 70/100\n",
      "Epoch 71/100\n",
      "Epoch 72/100\n",
      "Epoch 73/100\n",
      "Epoch 74/100\n",
      "Epoch 75/100\n",
      "Epoch 76/100\n",
      "Epoch 77/100\n",
      "Epoch 78/100\n",
      "Epoch 79/100\n",
      "Epoch 80/100\n",
      "Epoch 81/100\n",
      "Epoch 82/100\n",
      "Epoch 83/100\n",
      "Epoch 84/100\n",
      "Epoch 85/100\n",
      "Epoch 86/100\n",
      "Epoch 87/100\n",
      "Epoch 88/100\n",
      "Epoch 89/100\n",
      "Epoch 90/100\n",
      "Epoch 91/100\n",
      "Epoch 92/100\n",
      "Epoch 93/100\n",
      "Epoch 94/100\n",
      "Epoch 95/100\n",
      "Epoch 96/100\n",
      "Epoch 97/100\n",
      "Epoch 98/100\n",
      "Epoch 99/100\n",
      "Epoch 100/100\n",
      "Saved model to disk\n"
     ]
    }
   ],
   "source": [
    "model = FER_Model()\n",
    "opt = Adam(learning_rate=0.15, decay=1e-6)\n",
    "model.compile(loss='categorical_crossentropy', optimizer=opt, metrics=['accuracy'])\n",
    "\n",
    "num_epochs = 100\n",
    "#print(len(X_train) / batch_size)\n",
    "#print(len(X_test) / batch_size)\n",
    "history = model.fit(train_flow,\n",
    "                    steps_per_epoch=len(X_train) / batch_size,\n",
    "                    epochs=num_epochs,\n",
    "                    verbose=10,\n",
    "                    validation_data=test_flow,\n",
    "                    validation_steps=len(X_test) / batch_size)\n",
    "\n",
    "model_json = model.to_json()\n",
    "with open(\"model_arch.json\", \"w\") as json_file:\n",
    "    json_file.write(model_json)\n",
    "model.save_weights(\"model.h5\")\n",
    "print(\"Saved model to disk\")"
   ]
  },
  {
   "cell_type": "code",
<<<<<<< HEAD
   "execution_count": 14,
=======
   "execution_count": 7,
>>>>>>> 2076a1aad5571cb6e0107f629bfe9053f7bbcc89
   "metadata": {},
   "outputs": [
    {
     "name": "stdout",
     "output_type": "stream",
     "text": [
<<<<<<< HEAD
      "Test accuracy: 0.152\n"
=======
      "real y:  [1. 0. 0. 0. 0. 0. 0.]\n",
      "Sentiment: [[0. 0. 0. 0. 0. 0. 1.]]\n",
      "Confidence: 100.0%\n",
      "real y:  [0. 0. 0. 0. 0. 1. 0.]\n",
      "Sentiment: [[0. 0. 0. 0. 0. 0. 1.]]\n",
      "Confidence: 100.0%\n",
      "real y:  [0. 0. 0. 0. 1. 0. 0.]\n",
      "Sentiment: [[0. 0. 0. 0. 0. 0. 1.]]\n",
      "Confidence: 100.0%\n",
      "real y:  [0. 0. 0. 1. 0. 0. 0.]\n",
      "Sentiment: [[0. 0. 0. 0. 0. 0. 1.]]\n",
      "Confidence: 100.0%\n",
      "real y:  [1. 0. 0. 0. 0. 0. 0.]\n",
      "Sentiment: [[0. 0. 0. 0. 0. 0. 1.]]\n",
      "Confidence: 100.0%\n",
      "real y:  [0. 0. 1. 0. 0. 0. 0.]\n",
      "Sentiment: [[0. 0. 0. 0. 0. 0. 1.]]\n",
      "Confidence: 100.0%\n",
      "real y:  [0. 0. 1. 0. 0. 0. 0.]\n",
      "Sentiment: [[0. 0. 0. 0. 0. 0. 1.]]\n",
      "Confidence: 100.0%\n",
      "real y:  [0. 0. 1. 0. 0. 0. 0.]\n",
      "Sentiment: [[0. 0. 0. 0. 0. 0. 1.]]\n",
      "Confidence: 100.0%\n",
      "real y:  [0. 0. 0. 0. 0. 1. 0.]\n",
      "Sentiment: [[0. 0. 0. 0. 0. 0. 1.]]\n",
      "Confidence: 100.0%\n",
      "real y:  [0. 0. 0. 1. 0. 0. 0.]\n",
      "Sentiment: [[0. 0. 0. 0. 0. 0. 1.]]\n",
      "Confidence: 100.0%\n",
      "real y:  [0. 0. 1. 0. 0. 0. 0.]\n",
      "Sentiment: [[0. 0. 0. 0. 0. 0. 1.]]\n",
      "Confidence: 100.0%\n",
      "real y:  [0. 0. 0. 1. 0. 0. 0.]\n",
      "Sentiment: [[0. 0. 0. 0. 0. 0. 1.]]\n",
      "Confidence: 100.0%\n",
      "real y:  [0. 0. 0. 0. 0. 0. 1.]\n",
      "Sentiment: [[0. 0. 0. 0. 0. 0. 1.]]\n",
      "Confidence: 100.0%\n",
      "real y:  [1. 0. 0. 0. 0. 0. 0.]\n",
      "Sentiment: [[0. 0. 0. 0. 0. 0. 1.]]\n",
      "Confidence: 100.0%\n",
      "real y:  [0. 0. 1. 0. 0. 0. 0.]\n",
      "Sentiment: [[0. 0. 0. 0. 0. 0. 1.]]\n",
      "Confidence: 100.0%\n",
      "real y:  [0. 0. 0. 0. 0. 0. 1.]\n",
      "Sentiment: [[0. 0. 0. 0. 0. 0. 1.]]\n",
      "Confidence: 100.0%\n",
      "real y:  [0. 0. 0. 0. 1. 0. 0.]\n",
      "Sentiment: [[0. 0. 0. 0. 0. 0. 1.]]\n",
      "Confidence: 100.0%\n"
>>>>>>> 2076a1aad5571cb6e0107f629bfe9053f7bbcc89
     ]
    }
   ],
   "source": [
    "from tensorflow.keras.models import load_model, model_from_json\n",
    "from tensorflow.keras.preprocessing.image import load_img,img_to_array\n",
    "model = model_from_json(open(\"static\\model_arch.json\", \"r\").read())\n",
    "model.load_weights('static\\model.h5')\n",
    "\n",
<<<<<<< HEAD
    "#calculate accuracy on test set\n",
    "#score = model.evaluate(test_flow, verbose=0)\n",
    "#print('Test loss:', score[0])\n",
    "\n",
    "hit_counter = 0\n",
    "for i in range(len(X_test)):\n",
    "    predictions = model.predict(X_test[i].reshape(1, 48, 48, 1))\n",
    "    correct_index = np.argmax(y_test[i])\n",
    "    max_index_pred = np.argmax(predictions[0])\n",
    "    if correct_index == max_index_pred:\n",
    "        hit_counter += 1\n",
    "print('Test accuracy:', hit_counter / len(X_test))\n",
    "    "
=======
    "for i in range(15, 100, 5):\n",
    "    predictions = model.predict(X_test[i].reshape(1, 48, 48, 1))\n",
    "    max_index = np.argmax(predictions[0])\n",
    "    emotion_detection = ('angry', 'disgust', 'fear', 'happy', 'sad', 'surprise', 'neutral')\n",
    "    emotion_prediction = emotion_detection[max_index]\n",
    "    print('real y: ', y_test[i])\n",
    "    print(\"Sentiment: {}\".format(predictions))\n",
    "    print('Confidence: {}'.format(str(np.round(np.max(predictions[0])*100,1))+ \"%\"))"
>>>>>>> 2076a1aad5571cb6e0107f629bfe9053f7bbcc89
   ]
  }
 ],
 "metadata": {
  "kernelspec": {
   "display_name": "Python 3.9.7 ('base')",
   "language": "python",
   "name": "python3"
  },
  "language_info": {
   "codemirror_mode": {
    "name": "ipython",
    "version": 3
   },
   "file_extension": ".py",
   "mimetype": "text/x-python",
   "name": "python",
   "nbconvert_exporter": "python",
   "pygments_lexer": "ipython3",
   "version": "3.9.7"
  },
  "orig_nbformat": 4,
  "vscode": {
   "interpreter": {
    "hash": "ee5acdc9b38fa4b968fa79b9fc91867d61332d3753dcc73dc9dc93bc8f1b057e"
   }
  }
 },
 "nbformat": 4,
 "nbformat_minor": 2
}
